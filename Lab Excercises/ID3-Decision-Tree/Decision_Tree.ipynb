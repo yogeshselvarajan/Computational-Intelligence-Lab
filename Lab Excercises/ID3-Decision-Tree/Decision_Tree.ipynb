{
  "nbformat": 4,
  "nbformat_minor": 0,
  "metadata": {
    "colab": {
      "provenance": [],
      "gpuType": "T4"
    },
    "kernelspec": {
      "name": "python3",
      "display_name": "Python 3"
    },
    "language_info": {
      "name": "python"
    },
    "accelerator": "GPU"
  },
  "cells": [
    {
      "cell_type": "markdown",
      "source": [
        "# Import Libraries and Define Classes"
      ],
      "metadata": {
        "id": "W63Nup7slFKN"
      }
    },
    {
      "cell_type": "code",
      "source": [
        "import pandas as pd\n",
        "import math\n",
        "from collections import Counter\n",
        "from graphviz import Digraph\n",
        "\n",
        "class Node:\n",
        "    def __init__(self, feature=None, value=None, label=None):\n",
        "        self.feature = feature   # Feature to split on\n",
        "        self.value = value       # Value of the feature to split on\n",
        "        self.label = label       # Majority class label if the node is a leaf\n",
        "        self.children = {}       # Dictionary to store child nodes\n",
        "\n",
        "class ID3DecisionTree:\n",
        "    def __init__(self, max_depth=None):\n",
        "        self.max_depth = max_depth\n",
        "        self.root = None\n",
        "\n",
        "    def fit(self, X, y, depth=0):\n",
        "        self.root = self._build_tree(X, y, depth)\n",
        "\n",
        "    def _calculate_entropy(self, data):\n",
        "        class_counts = Counter(data)\n",
        "        probabilities = [count / len(data) for count in class_counts.values()]\n",
        "        entropy = -sum(p * math.log2(p) for p in probabilities)\n",
        "        return entropy\n",
        "\n",
        "    def _find_best_split(self, X, y):\n",
        "      best_feature = None\n",
        "      best_split_value = None\n",
        "      best_info_gain = -1\n",
        "\n",
        "      entropy_parent = self._calculate_entropy(y)\n",
        "\n",
        "      for feature in X.columns:\n",
        "        unique_values = X[feature].unique()\n",
        "        for value in unique_values:\n",
        "            subset_indices = X[feature] == value\n",
        "            subset_y = y[subset_indices]\n",
        "            entropy_child = self._calculate_entropy(subset_y)\n",
        "            info_gain = entropy_parent - entropy_child\n",
        "\n",
        "            # Create a unique identifier for the node being evaluated\n",
        "            node_identifier = f\"Node: {feature} = {value}\"\n",
        "\n",
        "            # Print the node identifier, entropy, and information gain\n",
        "            print(f\"{node_identifier}, Entropy: {entropy_child:.4f}, Info Gain: {info_gain:.4f}\")\n",
        "\n",
        "            if info_gain > best_info_gain:\n",
        "                best_info_gain = info_gain\n",
        "                best_feature = feature\n",
        "                best_split_value = value\n",
        "\n",
        "      return best_feature, best_split_value\n",
        "\n",
        "\n",
        "\n",
        "    def _build_tree(self, X, y, depth):\n",
        "        if depth == self.max_depth:\n",
        "            return Node(label=y.value_counts().idxmax())\n",
        "\n",
        "        if len(set(y)) == 1:\n",
        "            return Node(label=y.iloc[0])\n",
        "\n",
        "        if X.empty:\n",
        "            return Node(label=y.value_counts().idxmax())\n",
        "\n",
        "        best_feature, best_split_value = self._find_best_split(X, y)\n",
        "        node = Node(feature=best_feature, value=best_split_value)\n",
        "\n",
        "        unique_values = X[best_feature].unique()\n",
        "        for value in unique_values:\n",
        "            subset_indices = X[best_feature] == value\n",
        "            subset_X = X[subset_indices]\n",
        "            subset_y = y[subset_indices]\n",
        "            node.children[value] = self._build_tree(subset_X, subset_y, depth + 1)\n",
        "\n",
        "        return node\n",
        "\n",
        "    def predict(self, X):\n",
        "        predictions = []\n",
        "        for _, row in X.iterrows():\n",
        "            node = self.root\n",
        "            while node.children:\n",
        "                value = row[node.feature]\n",
        "                if value in node.children:\n",
        "                    node = node.children[value]\n",
        "                else:\n",
        "                    break\n",
        "            predictions.append(node.label)\n",
        "        return predictions\n",
        "\n",
        "    def visualize_tree(self, node, graph=None):\n",
        "        if graph is None:\n",
        "            graph = Digraph(format='png')\n",
        "\n",
        "        if node.label is not None:\n",
        "            graph.node(str(id(node)), label=node.label)\n",
        "        else:\n",
        "            graph.node(str(id(node)), label=node.feature)\n",
        "\n",
        "        for value, child_node in node.children.items():\n",
        "            if child_node.label is not None:\n",
        "                graph.node(str(id(child_node)), label=child_node.label)\n",
        "            else:\n",
        "                graph.node(str(id(child_node)), label=child_node.feature)\n",
        "            graph.edge(str(id(node)), str(id(child_node)), label=str(value))\n",
        "            self.visualize_tree(child_node, graph)\n",
        "\n",
        "        return graph\n"
      ],
      "metadata": {
        "id": "jqpfrf3-Jwbs"
      },
      "execution_count": 1,
      "outputs": []
    },
    {
      "cell_type": "markdown",
      "source": [
        "# Read Data and Build Decision Tree"
      ],
      "metadata": {
        "id": "bBCnmQvtlNPA"
      }
    },
    {
      "cell_type": "code",
      "source": [
        "# Read the CSV file into a DataFrame\n",
        "dataset = pd.read_csv('/content/data1.csv')\n",
        "X = dataset.drop(columns=['Status'])\n",
        "y = dataset['Status']\n",
        "\n",
        "# Initialize and fit the ID3 Decision Tree\n",
        "tree = ID3DecisionTree(max_depth=3)\n",
        "tree.fit(X, y)\n"
      ],
      "metadata": {
        "id": "8JksKV9alPjm",
        "colab": {
          "base_uri": "https://localhost:8080/"
        },
        "outputId": "1fb5d165-ee43-4f5f-baad-77ef08f20021"
      },
      "execution_count": 2,
      "outputs": [
        {
          "output_type": "stream",
          "name": "stdout",
          "text": [
            "Node: Department = Sales, Entropy: 0.9183, Info Gain: 0.0757\n",
            "Node: Department = Systems, Entropy: 1.0000, Info Gain: -0.0060\n",
            "Node: Department = Marketing, Entropy: 1.0000, Info Gain: -0.0060\n",
            "Node: Department = Secretary, Entropy: 1.0000, Info Gain: -0.0060\n",
            "Node: Age_Range = Middle-aged, Entropy: 0.9710, Info Gain: 0.0231\n",
            "Node: Age_Range = Young, Entropy: -0.0000, Info Gain: 0.9940\n",
            "Node: Age_Range = Senior, Entropy: -0.0000, Info Gain: 0.9940\n",
            "Node: Salary_class = High, Entropy: 0.9183, Info Gain: 0.0757\n",
            "Node: Salary_class = Low, Entropy: -0.0000, Info Gain: 0.9940\n",
            "Node: Salary_class = Average, Entropy: 1.0000, Info Gain: -0.0060\n",
            "Node: Department = Sales, Entropy: 1.0000, Info Gain: -0.0290\n",
            "Node: Department = Systems, Entropy: -0.0000, Info Gain: 0.9710\n",
            "Node: Department = Marketing, Entropy: 1.0000, Info Gain: -0.0290\n",
            "Node: Age_Range = Middle-aged, Entropy: 0.9710, Info Gain: 0.0000\n",
            "Node: Salary_class = High, Entropy: -0.0000, Info Gain: 0.9710\n",
            "Node: Salary_class = Low, Entropy: -0.0000, Info Gain: 0.9710\n",
            "Node: Salary_class = Average, Entropy: -0.0000, Info Gain: 0.9710\n",
            "Node: Department = Sales, Entropy: 1.0000, Info Gain: 0.0000\n",
            "Node: Age_Range = Middle-aged, Entropy: 1.0000, Info Gain: 0.0000\n",
            "Node: Salary_class = High, Entropy: -0.0000, Info Gain: 1.0000\n",
            "Node: Salary_class = Low, Entropy: -0.0000, Info Gain: 1.0000\n",
            "Node: Department = Marketing, Entropy: 1.0000, Info Gain: 0.0000\n",
            "Node: Age_Range = Middle-aged, Entropy: 1.0000, Info Gain: 0.0000\n",
            "Node: Salary_class = High, Entropy: -0.0000, Info Gain: 1.0000\n",
            "Node: Salary_class = Average, Entropy: -0.0000, Info Gain: 1.0000\n"
          ]
        }
      ]
    },
    {
      "cell_type": "markdown",
      "source": [
        "# Make Predictions and Visualize Tree"
      ],
      "metadata": {
        "id": "H44oxTYNlu8g"
      }
    },
    {
      "cell_type": "code",
      "source": [
        "# Visualize the decision tree using Graphviz\n",
        "tree_graph = tree.visualize_tree(tree.root)\n",
        "tree_graph"
      ],
      "metadata": {
        "colab": {
          "base_uri": "https://localhost:8080/",
          "height": 427
        },
        "id": "_Xmd13qfEBXg",
        "outputId": "f5795522-fc40-4ac2-c11d-95e9dd7de2d1"
      },
      "execution_count": 3,
      "outputs": [
        {
          "output_type": "execute_result",
          "data": {
            "image/svg+xml": "<?xml version=\"1.0\" encoding=\"UTF-8\" standalone=\"no\"?>\n<!DOCTYPE svg PUBLIC \"-//W3C//DTD SVG 1.1//EN\"\n \"http://www.w3.org/Graphics/SVG/1.1/DTD/svg11.dtd\">\n<!-- Generated by graphviz version 2.43.0 (0)\n -->\n<!-- Title: %3 Pages: 1 -->\n<svg width=\"400pt\" height=\"305pt\"\n viewBox=\"0.00 0.00 399.59 305.00\" xmlns=\"http://www.w3.org/2000/svg\" xmlns:xlink=\"http://www.w3.org/1999/xlink\">\n<g id=\"graph0\" class=\"graph\" transform=\"scale(1 1) rotate(0) translate(4 301)\">\n<title>%3</title>\n<polygon fill=\"white\" stroke=\"transparent\" points=\"-4,4 -4,-301 395.59,-301 395.59,4 -4,4\"/>\n<!-- 139098046181104 -->\n<g id=\"node1\" class=\"node\">\n<title>139098046181104</title>\n<ellipse fill=\"none\" stroke=\"black\" cx=\"273.8\" cy=\"-279\" rx=\"51.99\" ry=\"18\"/>\n<text text-anchor=\"middle\" x=\"273.8\" y=\"-275.3\" font-family=\"Times,serif\" font-size=\"14.00\">Age_Range</text>\n</g>\n<!-- 139098046170784 -->\n<g id=\"node2\" class=\"node\">\n<title>139098046170784</title>\n<ellipse fill=\"none\" stroke=\"black\" cx=\"170.8\" cy=\"-192\" rx=\"52.79\" ry=\"18\"/>\n<text text-anchor=\"middle\" x=\"170.8\" y=\"-188.3\" font-family=\"Times,serif\" font-size=\"14.00\">Department</text>\n</g>\n<!-- 139098046181104&#45;&gt;139098046170784 -->\n<g id=\"edge1\" class=\"edge\">\n<title>139098046181104&#45;&gt;139098046170784</title>\n<path fill=\"none\" stroke=\"black\" d=\"M237.64,-266.06C224.66,-260.51 210.57,-252.91 199.8,-243 192.61,-236.39 186.69,-227.57 182.12,-219.19\"/>\n<polygon fill=\"black\" stroke=\"black\" points=\"185.14,-217.41 177.53,-210.04 178.89,-220.55 185.14,-217.41\"/>\n<text text-anchor=\"middle\" x=\"234.8\" y=\"-231.8\" font-family=\"Times,serif\" font-size=\"14.00\">Middle&#45;aged</text>\n</g>\n<!-- 139098046173280 -->\n<g id=\"node10\" class=\"node\">\n<title>139098046173280</title>\n<ellipse fill=\"none\" stroke=\"black\" cx=\"273.8\" cy=\"-192\" rx=\"32.49\" ry=\"18\"/>\n<text text-anchor=\"middle\" x=\"273.8\" y=\"-188.3\" font-family=\"Times,serif\" font-size=\"14.00\">Junior</text>\n</g>\n<!-- 139098046181104&#45;&gt;139098046173280 -->\n<g id=\"edge9\" class=\"edge\">\n<title>139098046181104&#45;&gt;139098046173280</title>\n<path fill=\"none\" stroke=\"black\" d=\"M273.8,-260.8C273.8,-249.16 273.8,-233.55 273.8,-220.24\"/>\n<polygon fill=\"black\" stroke=\"black\" points=\"277.3,-220.18 273.8,-210.18 270.3,-220.18 277.3,-220.18\"/>\n<text text-anchor=\"middle\" x=\"292.3\" y=\"-231.8\" font-family=\"Times,serif\" font-size=\"14.00\">Young</text>\n</g>\n<!-- 139098046178800 -->\n<g id=\"node11\" class=\"node\">\n<title>139098046178800</title>\n<ellipse fill=\"none\" stroke=\"black\" cx=\"357.8\" cy=\"-192\" rx=\"33.6\" ry=\"18\"/>\n<text text-anchor=\"middle\" x=\"357.8\" y=\"-188.3\" font-family=\"Times,serif\" font-size=\"14.00\">Senior</text>\n</g>\n<!-- 139098046181104&#45;&gt;139098046178800 -->\n<g id=\"edge10\" class=\"edge\">\n<title>139098046181104&#45;&gt;139098046178800</title>\n<path fill=\"none\" stroke=\"black\" d=\"M293.53,-262.21C300.46,-256.39 308.17,-249.61 314.8,-243 323.03,-234.79 331.5,-225.23 338.72,-216.68\"/>\n<polygon fill=\"black\" stroke=\"black\" points=\"341.51,-218.79 345.21,-208.87 336.13,-214.32 341.51,-218.79\"/>\n<text text-anchor=\"middle\" x=\"345.8\" y=\"-231.8\" font-family=\"Times,serif\" font-size=\"14.00\">Senior</text>\n</g>\n<!-- 139098046180096 -->\n<g id=\"node3\" class=\"node\">\n<title>139098046180096</title>\n<ellipse fill=\"none\" stroke=\"black\" cx=\"64.8\" cy=\"-105\" rx=\"54.69\" ry=\"18\"/>\n<text text-anchor=\"middle\" x=\"64.8\" y=\"-101.3\" font-family=\"Times,serif\" font-size=\"14.00\">Salary_class</text>\n</g>\n<!-- 139098046170784&#45;&gt;139098046180096 -->\n<g id=\"edge2\" class=\"edge\">\n<title>139098046170784&#45;&gt;139098046180096</title>\n<path fill=\"none\" stroke=\"black\" d=\"M150.86,-175.01C134.43,-161.83 110.93,-142.99 92.64,-128.33\"/>\n<polygon fill=\"black\" stroke=\"black\" points=\"94.64,-125.44 84.65,-121.92 90.26,-130.9 94.64,-125.44\"/>\n<text text-anchor=\"middle\" x=\"139.3\" y=\"-144.8\" font-family=\"Times,serif\" font-size=\"14.00\">Sales</text>\n</g>\n<!-- 139098046169680 -->\n<g id=\"node6\" class=\"node\">\n<title>139098046169680</title>\n<ellipse fill=\"none\" stroke=\"black\" cx=\"170.8\" cy=\"-105\" rx=\"33.6\" ry=\"18\"/>\n<text text-anchor=\"middle\" x=\"170.8\" y=\"-101.3\" font-family=\"Times,serif\" font-size=\"14.00\">Senior</text>\n</g>\n<!-- 139098046170784&#45;&gt;139098046169680 -->\n<g id=\"edge5\" class=\"edge\">\n<title>139098046170784&#45;&gt;139098046169680</title>\n<path fill=\"none\" stroke=\"black\" d=\"M170.8,-173.8C170.8,-162.16 170.8,-146.55 170.8,-133.24\"/>\n<polygon fill=\"black\" stroke=\"black\" points=\"174.3,-133.18 170.8,-123.18 167.3,-133.18 174.3,-133.18\"/>\n<text text-anchor=\"middle\" x=\"193.8\" y=\"-144.8\" font-family=\"Times,serif\" font-size=\"14.00\">Systems</text>\n</g>\n<!-- 139098046178704 -->\n<g id=\"node7\" class=\"node\">\n<title>139098046178704</title>\n<ellipse fill=\"none\" stroke=\"black\" cx=\"276.8\" cy=\"-105\" rx=\"54.69\" ry=\"18\"/>\n<text text-anchor=\"middle\" x=\"276.8\" y=\"-101.3\" font-family=\"Times,serif\" font-size=\"14.00\">Salary_class</text>\n</g>\n<!-- 139098046170784&#45;&gt;139098046178704 -->\n<g id=\"edge6\" class=\"edge\">\n<title>139098046170784&#45;&gt;139098046178704</title>\n<path fill=\"none\" stroke=\"black\" d=\"M193.86,-175.7C202.48,-169.76 212.24,-162.78 220.8,-156 231.33,-147.66 242.47,-137.92 252.01,-129.27\"/>\n<polygon fill=\"black\" stroke=\"black\" points=\"254.59,-131.65 259.6,-122.31 249.87,-126.49 254.59,-131.65\"/>\n<text text-anchor=\"middle\" x=\"266.8\" y=\"-144.8\" font-family=\"Times,serif\" font-size=\"14.00\">Marketing</text>\n</g>\n<!-- 139098046171792 -->\n<g id=\"node4\" class=\"node\">\n<title>139098046171792</title>\n<ellipse fill=\"none\" stroke=\"black\" cx=\"33.8\" cy=\"-18\" rx=\"33.6\" ry=\"18\"/>\n<text text-anchor=\"middle\" x=\"33.8\" y=\"-14.3\" font-family=\"Times,serif\" font-size=\"14.00\">Senior</text>\n</g>\n<!-- 139098046180096&#45;&gt;139098046171792 -->\n<g id=\"edge3\" class=\"edge\">\n<title>139098046180096&#45;&gt;139098046171792</title>\n<path fill=\"none\" stroke=\"black\" d=\"M58.52,-86.8C54.21,-74.97 48.4,-59.03 43.49,-45.58\"/>\n<polygon fill=\"black\" stroke=\"black\" points=\"46.67,-44.08 39.96,-35.89 40.09,-46.48 46.67,-44.08\"/>\n<text text-anchor=\"middle\" x=\"65.8\" y=\"-57.8\" font-family=\"Times,serif\" font-size=\"14.00\">High</text>\n</g>\n<!-- 139098046179328 -->\n<g id=\"node5\" class=\"node\">\n<title>139098046179328</title>\n<ellipse fill=\"none\" stroke=\"black\" cx=\"117.8\" cy=\"-18\" rx=\"32.49\" ry=\"18\"/>\n<text text-anchor=\"middle\" x=\"117.8\" y=\"-14.3\" font-family=\"Times,serif\" font-size=\"14.00\">Junior</text>\n</g>\n<!-- 139098046180096&#45;&gt;139098046179328 -->\n<g id=\"edge4\" class=\"edge\">\n<title>139098046180096&#45;&gt;139098046179328</title>\n<path fill=\"none\" stroke=\"black\" d=\"M75.27,-87.21C82.99,-74.82 93.62,-57.78 102.32,-43.82\"/>\n<polygon fill=\"black\" stroke=\"black\" points=\"105.39,-45.52 107.71,-35.18 99.45,-41.82 105.39,-45.52\"/>\n<text text-anchor=\"middle\" x=\"107.3\" y=\"-57.8\" font-family=\"Times,serif\" font-size=\"14.00\">Low</text>\n</g>\n<!-- 139098046179376 -->\n<g id=\"node8\" class=\"node\">\n<title>139098046179376</title>\n<ellipse fill=\"none\" stroke=\"black\" cx=\"223.8\" cy=\"-18\" rx=\"33.6\" ry=\"18\"/>\n<text text-anchor=\"middle\" x=\"223.8\" y=\"-14.3\" font-family=\"Times,serif\" font-size=\"14.00\">Senior</text>\n</g>\n<!-- 139098046178704&#45;&gt;139098046179376 -->\n<g id=\"edge7\" class=\"edge\">\n<title>139098046178704&#45;&gt;139098046179376</title>\n<path fill=\"none\" stroke=\"black\" d=\"M266.33,-87.21C258.6,-74.82 247.98,-57.78 239.28,-43.82\"/>\n<polygon fill=\"black\" stroke=\"black\" points=\"242.15,-41.82 233.89,-35.18 236.21,-45.52 242.15,-41.82\"/>\n<text text-anchor=\"middle\" x=\"266.8\" y=\"-57.8\" font-family=\"Times,serif\" font-size=\"14.00\">High</text>\n</g>\n<!-- 139098046170064 -->\n<g id=\"node9\" class=\"node\">\n<title>139098046170064</title>\n<ellipse fill=\"none\" stroke=\"black\" cx=\"307.8\" cy=\"-18\" rx=\"32.49\" ry=\"18\"/>\n<text text-anchor=\"middle\" x=\"307.8\" y=\"-14.3\" font-family=\"Times,serif\" font-size=\"14.00\">Junior</text>\n</g>\n<!-- 139098046178704&#45;&gt;139098046170064 -->\n<g id=\"edge8\" class=\"edge\">\n<title>139098046178704&#45;&gt;139098046170064</title>\n<path fill=\"none\" stroke=\"black\" d=\"M283.07,-86.8C287.38,-74.97 293.2,-59.03 298.1,-45.58\"/>\n<polygon fill=\"black\" stroke=\"black\" points=\"301.5,-46.48 301.64,-35.89 294.92,-44.08 301.5,-46.48\"/>\n<text text-anchor=\"middle\" x=\"316.8\" y=\"-57.8\" font-family=\"Times,serif\" font-size=\"14.00\">Average</text>\n</g>\n</g>\n</svg>\n",
            "text/plain": [
              "<graphviz.graphs.Digraph at 0x7e8249a1b970>"
            ]
          },
          "metadata": {},
          "execution_count": 3
        }
      ]
    },
    {
      "cell_type": "code",
      "source": [
        "# Predict the class labels for a new sample\n",
        "new_sample = pd.DataFrame({'Department': 'Sales','Age_Range': 'Middle-aged','Salary_class': 'Low'}, index=[0])\n",
        "predictions = tree.predict(new_sample)\n",
        "print(predictions)\n"
      ],
      "metadata": {
        "colab": {
          "base_uri": "https://localhost:8080/"
        },
        "id": "xlXgcUH1lyTe",
        "outputId": "138a8a1d-a540-406b-be6c-4d7c03a46455"
      },
      "execution_count": 4,
      "outputs": [
        {
          "output_type": "stream",
          "name": "stdout",
          "text": [
            "['Junior']\n"
          ]
        }
      ]
    }
  ]
}