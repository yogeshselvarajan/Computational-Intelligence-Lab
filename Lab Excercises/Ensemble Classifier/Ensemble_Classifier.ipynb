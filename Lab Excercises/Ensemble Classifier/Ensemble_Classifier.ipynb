{
  "cells": [
    {
      "cell_type": "code",
      "source": [
        "# Import necessary libraries\n",
        "import pandas as pd\n",
        "from sklearn.tree import DecisionTreeClassifier\n",
        "from sklearn.ensemble import RandomForestClassifier\n",
        "from sklearn.model_selection import train_test_split\n",
        "from sklearn.metrics import accuracy_score, confusion_matrix\n",
        "from sklearn.preprocessing import OneHotEncoder, LabelEncoder\n",
        "\n",
        "# Define the file ID from the Google Drive sharing link\n",
        "file_id = '1Gb3AiXXEKhkaZZtIXxqcV0jIdVckcrLB'\n",
        "\n",
        "# Download the dataset\n",
        "download_link = f'https://drive.google.com/uc?id={file_id}'\n",
        "dataset = pd.read_csv(download_link)\n",
        "\n",
        "# Define the number of splits as per user input\n",
        "num_splits = int(input(\"Enter the number of splits for Decision Trees: \"))\n",
        "\n",
        "# Extract categorical columns for encoding\n",
        "categorical_columns = ['Sex', 'ChestPainType', 'FastingBS', 'RestingECG', 'ExerciseAngina', 'ST_Slope']\n",
        "\n",
        "# Initialize a list to store individual Decision Trees\n",
        "individual_trees = []\n",
        "\n",
        "# Split and train Decision Trees\n",
        "for i in range(num_splits):\n",
        "    train_data, test_data = train_test_split(dataset, test_size=0.3, random_state=i)\n",
        "\n",
        "    # Perform label encoding for categorical columns\n",
        "    label_encoder = LabelEncoder()\n",
        "    for col in categorical_columns:\n",
        "        train_data[col] = label_encoder.fit_transform(train_data[col])\n",
        "        test_data[col] = label_encoder.transform(test_data[col])\n",
        "\n",
        "    X_train = train_data.drop('HeartDisease', axis=1)\n",
        "    y_train = train_data['HeartDisease']\n",
        "    X_test = test_data.drop('HeartDisease', axis=1)\n",
        "    y_test = test_data['HeartDisease']\n",
        "\n",
        "    # Create and train a Decision Tree\n",
        "    decision_tree = DecisionTreeClassifier(random_state=42)\n",
        "    decision_tree.fit(X_train, y_train)\n",
        "\n",
        "    # Append the Decision Tree to the list\n",
        "    individual_trees.append(decision_tree)\n",
        "\n",
        "    # Calculate and print accuracy for the current Decision Tree\n",
        "    y_pred = decision_tree.predict(X_test)\n",
        "    accuracy = accuracy_score(y_test, y_pred)\n",
        "    print(f\"Accuracy for Decision Tree {i + 1}: {accuracy}\")\n",
        "\n",
        "# Now, let's create a Random Forest classifier using the individual Decision Trees\n",
        "random_forest = RandomForestClassifier(n_estimators=num_splits, random_state=42)\n",
        "\n",
        "# Fit the Random Forest using the individual Decision Trees\n",
        "random_forest.fit(X_train, y_train)\n",
        "\n",
        "# Make predictions and calculate accuracy for the Random Forest\n",
        "rf_predictions = random_forest.predict(X_test)\n",
        "rf_accuracy = accuracy_score(y_test, rf_predictions)\n",
        "\n",
        "# Calculate and display the confusion matrix for the Random Forest\n",
        "conf_matrix = confusion_matrix(y_test, rf_predictions)\n",
        "\n",
        "# Print the results\n",
        "print(f\"Accuracy of Random Forest: {rf_accuracy}\")\n",
        "print(\"Confusion Matrix for Random Forest:\")\n",
        "print(conf_matrix)\n"
      ],
      "metadata": {
        "id": "1g7pW1PS4Kdw",
        "outputId": "c03fbd02-3b65-4bad-8cd4-376a45188c9e",
        "colab": {
          "base_uri": "https://localhost:8080/"
        }
      },
      "execution_count": 18,
      "outputs": [
        {
          "output_type": "stream",
          "name": "stdout",
          "text": [
            "Enter the number of splits for Decision Trees: 6\n",
            "Accuracy for Decision Tree 1: 0.782608695652174\n",
            "Accuracy for Decision Tree 2: 0.7753623188405797\n",
            "Accuracy for Decision Tree 3: 0.8007246376811594\n",
            "Accuracy for Decision Tree 4: 0.8007246376811594\n",
            "Accuracy for Decision Tree 5: 0.8260869565217391\n",
            "Accuracy for Decision Tree 6: 0.7717391304347826\n",
            "Accuracy of Random Forest: 0.8405797101449275\n",
            "Confusion Matrix for Random Forest:\n",
            "[[101  18]\n",
            " [ 26 131]]\n"
          ]
        }
      ]
    }
  ],
  "metadata": {
    "colab": {
      "provenance": []
    },
    "kernelspec": {
      "display_name": "Python 3",
      "name": "python3"
    }
  },
  "nbformat": 4,
  "nbformat_minor": 0
}